{
 "cells": [
  {
   "cell_type": "code",
   "execution_count": null,
   "id": "6f1ff5ca",
   "metadata": {},
   "outputs": [],
   "source": [
    "import csv \n",
    "\n",
    "def read_files(file_name):\n",
    "    rows = []\n",
    "    with open(file_name,'r') as file:\n",
    "        csv_reader = csv.reader(file)\n",
    "        for row in csv_reader:\n",
    "            rows.append(row)\n",
    "    return rows    \n",
    "\n",
    "def create_sql_insert_statement(file_name):\n",
    "    table_name = file_name.split(\".\")[0]\n",
    "    rows = read_file(file_name)\n",
    "    headers = \",\".join(rows[0])\n",
    "    insert_line = \"INSERT INTO \" + table_name + \"(\" + headers + \")\\n\"\n",
    "    value_line = \"VALUES\\n\"\n",
    "    entries = []\n",
    "\n",
    "    for row in rows[]:\n",
    "        value = \"t(\" + \",\".join(row) + \")\"\n",
    "        entries.append(value)\n",
    "\n",
    "    entry_lines = \",\\n\".join(entries)\n",
    "\n",
    "    return   insert_line  + value_line + entry_lines + \";\"\n",
    "\n",
    "print(create_sql_insert_statement(\"usernames.csv\"))    "
   ]
  }
 ],
 "metadata": {
  "kernelspec": {
   "display_name": "Python 3.9.7 ('base')",
   "language": "python",
   "name": "python3"
  },
  "language_info": {
   "codemirror_mode": {
    "name": "ipython",
    "version": 3
   },
   "file_extension": ".py",
   "mimetype": "text/x-python",
   "name": "python",
   "nbconvert_exporter": "python",
   "pygments_lexer": "ipython3",
   "version": "3.9.7"
  },
  "toc-autonumbering": true,
  "toc-showmarkdowntxt": false,
  "toc-showtags": false,
  "vscode": {
   "interpreter": {
    "hash": "c41639db67be15e51ffe08f018462faa84bcb644fd3ef0f901f9f159be25f04f"
   }
  }
 },
 "nbformat": 4,
 "nbformat_minor": 5
}
